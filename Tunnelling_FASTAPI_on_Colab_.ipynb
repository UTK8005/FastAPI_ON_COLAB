{
  "nbformat": 4,
  "nbformat_minor": 0,
  "metadata": {
    "colab": {
      "provenance": []
    },
    "kernelspec": {
      "name": "python3",
      "display_name": "Python 3"
    },
    "language_info": {
      "name": "python"
    }
  },
  "cells": [
    {
      "cell_type": "code",
      "execution_count": 16,
      "metadata": {
        "colab": {
          "base_uri": "https://localhost:8080/"
        },
        "id": "KjmVIuAlYdNv",
        "outputId": "ea656cff-f0dd-4974-8264-9e213bb71776"
      },
      "outputs": [
        {
          "output_type": "stream",
          "name": "stdout",
          "text": [
            "\u001b[?25l   \u001b[90m━━━━━━━━━━━━━━━━━━━━━━━━━━━━━━━━━━━━━━━━\u001b[0m \u001b[32m0.0/3.1 MB\u001b[0m \u001b[31m?\u001b[0m eta \u001b[36m-:--:--\u001b[0m\r\u001b[2K   \u001b[91m━━━\u001b[0m\u001b[91m╸\u001b[0m\u001b[90m━━━━━━━━━━━━━━━━━━━━━━━━━━━━━━━━━━━━\u001b[0m \u001b[32m0.3/3.1 MB\u001b[0m \u001b[31m8.1 MB/s\u001b[0m eta \u001b[36m0:00:01\u001b[0m\r\u001b[2K   \u001b[91m━━━━━━━━━━━━━━━━━━━━━━━━━━━━━\u001b[0m\u001b[91m╸\u001b[0m\u001b[90m━━━━━━━━━━\u001b[0m \u001b[32m2.3/3.1 MB\u001b[0m \u001b[31m33.9 MB/s\u001b[0m eta \u001b[36m0:00:01\u001b[0m\r\u001b[2K   \u001b[90m━━━━━━━━━━━━━━━━━━━━━━━━━━━━━━━━━━━━━━━━\u001b[0m \u001b[32m3.1/3.1 MB\u001b[0m \u001b[31m32.2 MB/s\u001b[0m eta \u001b[36m0:00:00\u001b[0m\n",
            "\u001b[?25h"
          ]
        }
      ],
      "source": [
        "!pip install -q pyngrok nest-asyncio fastapi uvicorn"
      ]
    },
    {
      "cell_type": "code",
      "source": [
        "import nest_asyncio\n",
        "from pyngrok import ngrok\n",
        "from fastapi import FastAPI\n",
        "import uvicorn\n",
        "from pyngrok import conf\n",
        "# Apply asyncio patch\n",
        "nest_asyncio.apply()\n",
        "conf.get_default().auth_token = \"2xZQM81tRlx61UhomtGVhAPYHEw_4qoG8nQ87GEm6tN1JwE5p\"\n",
        "\n",
        "# Create FastAPI app\n",
        "app = FastAPI()\n",
        "\n",
        "@app.get(\"/\")\n",
        "def read_root():\n",
        "    return {\"message\": \"Hello from FastAPI in Colab!\"}\n",
        "\n",
        "# Open a public URL tunnel\n",
        "public_url = ngrok.connect(8000)\n",
        "print(f\"Public URL: {public_url}\")\n",
        "\n",
        "# Run the app with Uvicorn\n",
        "uvicorn.run(app, port=8000)\n"
      ],
      "metadata": {
        "colab": {
          "base_uri": "https://localhost:8080/"
        },
        "id": "fPFcdvwAZHBX",
        "outputId": "4991e358-ddc2-4cab-a1e8-aa6033c079ad"
      },
      "execution_count": 20,
      "outputs": [
        {
          "output_type": "stream",
          "name": "stderr",
          "text": [
            "INFO:     Started server process [807]\n",
            "INFO:     Waiting for application startup.\n",
            "INFO:     Application startup complete.\n",
            "INFO:     Uvicorn running on http://127.0.0.1:8000 (Press CTRL+C to quit)\n"
          ]
        },
        {
          "output_type": "stream",
          "name": "stdout",
          "text": [
            "Public URL: NgrokTunnel: \"https://d70f-34-57-243-28.ngrok-free.app\" -> \"http://localhost:8000\"\n",
            "INFO:     2409:40f3:10c4:e493:ac82:d28e:c446:7e03:0 - \"GET / HTTP/1.1\" 200 OK\n",
            "INFO:     2409:40f3:10c4:e493:ac82:d28e:c446:7e03:0 - \"GET /favicon.ico HTTP/1.1\" 404 Not Found\n",
            "INFO:     2409:40f3:10c4:e493:ac82:d28e:c446:7e03:0 - \"GET /docs HTTP/1.1\" 200 OK\n",
            "INFO:     2409:40f3:10c4:e493:ac82:d28e:c446:7e03:0 - \"GET /openapi.json HTTP/1.1\" 200 OK\n",
            "INFO:     2409:40f3:10c4:e493:ac82:d28e:c446:7e03:0 - \"GET / HTTP/1.1\" 200 OK\n"
          ]
        },
        {
          "output_type": "stream",
          "name": "stderr",
          "text": [
            "INFO:     Shutting down\n",
            "INFO:     Waiting for application shutdown.\n",
            "INFO:     Application shutdown complete.\n",
            "INFO:     Finished server process [807]\n"
          ]
        }
      ]
    },
    {
      "cell_type": "code",
      "source": [],
      "metadata": {
        "id": "JMyA3Fo5eaQh"
      },
      "execution_count": null,
      "outputs": []
    }
  ]
}